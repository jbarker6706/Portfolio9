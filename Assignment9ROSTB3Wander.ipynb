{
  "nbformat": 4,
  "nbformat_minor": 0,
  "metadata": {
    "colab": {
      "name": "Assignment9ROSTB3Wander.ipynb",
      "provenance": [],
      "collapsed_sections": [],
      "authorship_tag": "ABX9TyMBK2xA5MOTIk/S075VAceS",
      "include_colab_link": true
    },
    "kernelspec": {
      "name": "python3",
      "display_name": "Python 3"
    }
  },
  "cells": [
    {
      "cell_type": "markdown",
      "metadata": {
        "id": "view-in-github",
        "colab_type": "text"
      },
      "source": [
        "<a href=\"https://colab.research.google.com/github/jbarker6706/Portfolio9/blob/master/Assignment9ROSTB3Wander.ipynb\" target=\"_parent\"><img src=\"https://colab.research.google.com/assets/colab-badge.svg\" alt=\"Open In Colab\"/></a>"
      ]
    },
    {
      "cell_type": "markdown",
      "metadata": {
        "id": "HvPtcOQk5yVa",
        "colab_type": "text"
      },
      "source": [
        "Here is one of two files used to get turtlebot3 wandering this contains the logic turtlebot3_logic.py"
      ]
    },
    {
      "cell_type": "code",
      "metadata": {
        "id": "YRI8xECX52rd",
        "colab_type": "code",
        "colab": {}
      },
      "source": [
        "#!/usr/bin/python\n",
        "\n",
        "import math\n",
        "import rospy\n",
        "from geometry_msgs.msg import Twist\n",
        "from sensor_msgs.msg import LaserScan\n",
        "\n",
        "\n",
        "class RosTurtlebotLogic(object):\n",
        "\n",
        "    def __init__(self, forwardSpeed, rotationSpeed, minDistanceFromObstacle, minimumAngle, maximumAngle):\n",
        "        self.forwardSpeed = forwardSpeed\n",
        "        self.rotationSpeed = rotationSpeed\n",
        "        self.minDistanceFromObstacle = minDistanceFromObstacle\n",
        "\n",
        "        # Keeps the current minimum distance from obstacle from laser.\n",
        "        self.minimumRangeAhead = 5\n",
        "        # In which direction to rotate, left or right.\n",
        "        self.rotationDirection = .1\n",
        "#        self.minimumIndexLaser = 360 * (90 + minimumAngle) / 90\n",
        "#        self.maximumIndexLaser = 360 * (90 + maximumAngle) / 90 - 1\n",
        "        self.minimumIndexLaser = 0\n",
        "        self.maximumIndexLaser = 358\n",
        "        self.keepMoving = True\n",
        "\n",
        "       # self.commandPub = rospy.Publisher(\"/cmd_vel_mux/input/teleop\", Twist, queue_size=10)\n",
        "        self.commandPub = rospy.Publisher('cmd_vel', Twist, queue_size=10)\n",
        "        rospy.Subscriber(\"scan\", LaserScan, self.scanCallback, queue_size=10)\n",
        "\n",
        "    def startMoving(self):\n",
        "        rate = rospy.Rate(10)\n",
        "        count = 0\n",
        "\n",
        "        while(not rospy.is_shutdown()):\n",
        "            if(self.keepMoving):\n",
        "                if (self.minimumRangeAhead < self.minDistanceFromObstacle):\n",
        "                    #print(\"I am GROOT <\")\n",
        "                    self.keepMoving = False\n",
        "            else:\n",
        "                if(self.minimumRangeAhead > self.minDistanceFromObstacle):\n",
        "                    #print(\"I am GROOT >\")\n",
        "                    self.keepMoving = True\n",
        "\n",
        "            twist = Twist()\n",
        "            if(self.keepMoving):\n",
        "                #print(\"I am GROOT x\")\n",
        "                twist.linear.x = self.forwardSpeed\n",
        "                twist.angular.z = 0\n",
        "            else:\n",
        "                #print(\"I am GROOT z\")\n",
        "                if(count%2==0):\n",
        "                    twist.angular.z = self.rotationDirection\n",
        "                    twist.linear.x = 0\n",
        "                else:\n",
        "                    twist.angular.z = 0\n",
        "                    twist.linear.x = 0\n",
        "\n",
        "                self.keepMoving = True\n",
        "            print(twist.linear.x, twist.angular.z)\n",
        "\n",
        "            self.commandPub.publish(twist)\n",
        "            rate.sleep()\n",
        "\n",
        "    def scanCallback(self, scan_msg):\n",
        "        minimum = 100\n",
        "        index = 0\n",
        "        \n",
        "        # Find the minimum distance to obstacle and we keep the minimum distance and the index.\n",
        "        # We need the minimum distance in order to know if we can go forward or not.\n",
        "        # We need the index to know in which direction to rotate.\n",
        "        if(not math.isnan(scan_msg.ranges[self.minimumIndexLaser])):\n",
        "            minimum = scan_msg.ranges[self.minimumIndexLaser]\n",
        "\n",
        "        for i in range(self.minimumIndexLaser, self.maximumIndexLaser + 1):\n",
        "            if(not math.isnan(scan_msg.ranges[i]) and scan_msg.ranges[i] < minimum):\n",
        "                minimum = scan_msg.ranges[i]\n",
        "                index = i\n",
        "\n",
        "        self.minimumRangeAhead = minimum\n",
        "\n",
        "        if(index <= 359):\n",
        "            self.rotationDirection = self.rotationSpeed\n",
        "        else:\n",
        "            self.rotationDirection = -self.rotationSpeed"
      ],
      "execution_count": 0,
      "outputs": []
    },
    {
      "cell_type": "markdown",
      "metadata": {
        "id": "GidG-u4Q6bBu",
        "colab_type": "text"
      },
      "source": [
        "This is the file which is the ROS node"
      ]
    },
    {
      "cell_type": "code",
      "metadata": {
        "id": "McK11mIp6pby",
        "colab_type": "code",
        "colab": {}
      },
      "source": [
        "#!/usr/bin/python\n",
        "\n",
        "import rospy\n",
        "import sys\n",
        "from turtlebot3_logic import RosTurtlebotLogic\n",
        "\n",
        "\n",
        "def loadParams():\n",
        "    forwardSpeed = 100\n",
        "    rotationSpeed = 10\n",
        "    minDistanceFromObstacle = 1.0\n",
        "    minimumAngle = -30\n",
        "    maximumAngle = 30\n",
        "\n",
        "    if rospy.has_param('~forward_speed'):\n",
        "        forwardSpeed = rospy.get_param('~forward_speed')\n",
        "        print(\"fs\")\n",
        "    if rospy.has_param('~rotation_speed'):\n",
        "        rotationSpeed = rospy.get_param('~rotation_speed')\n",
        "        print(\"rs\")\n",
        "    if rospy.has_param('~minimum_distance_from_obstacle'):\n",
        "        minDistanceFromObstacle = rospy.get_param('~minimum_distance_from_obstacle')\n",
        "        print(\"mindis\")\n",
        "    if rospy.has_param('~minimum_angle'):\n",
        "        minimumAngle = rospy.get_param('~minimum_angle')\n",
        "        print(\"minang\")\n",
        "    if rospy.has_param('~maximum_angle'):\n",
        "        maximumAngle = rospy.get_param('~maximum_angle')\n",
        "        print(\"maxang\")\n",
        "\n",
        "    return forwardSpeed, rotationSpeed, minDistanceFromObstacle, minimumAngle, maximumAngle\n",
        "\n",
        "\n",
        "if __name__ == \"__main__\":\n",
        "    rospy.loginfo(\"Started program.\")\n",
        "\n",
        "    rospy.init_node(\"stopper_node\", argv=sys.argv)\n",
        "    forwardSpeed, rotationSpeed, minDistanceFromObstacle, minimumAngle, maximumAngle = loadParams()\n",
        "    rospy.loginfo(\"Finished import parameters.\")\n",
        "    \n",
        "    #print(forwardSpeed, rotationSpeed, minDistanceFromObstacle, minimumAngle, maximumAngle)\n",
        "\n",
        "    my_stopper = RosTurtlebotLogic(forwardSpeed, rotationSpeed, minDistanceFromObstacle, minimumAngle, maximumAngle)\n",
        "    my_stopper.startMoving()"
      ],
      "execution_count": 0,
      "outputs": []
    },
    {
      "cell_type": "markdown",
      "metadata": {
        "id": "ES2aejRZ63wL",
        "colab_type": "text"
      },
      "source": [
        "I had two helper nodes because I was struggling to get the bot to wander without getting stuck. So I had a forward backward node trajectory.py.\n",
        "I also had a rotate node rturtlebot.py. Both useful in unsticking my bot"
      ]
    },
    {
      "cell_type": "code",
      "metadata": {
        "id": "uGmzGT7C7SYv",
        "colab_type": "code",
        "colab": {}
      },
      "source": [
        "#!/usr/bin/python\n",
        "\n",
        "import rospy\n",
        "from geometry_msgs.msg import Twist\n",
        "\n",
        "def talker():\n",
        "    rospy.init_node('vel_publisher')\n",
        "    pub = rospy.Publisher('cmd_vel', Twist, queue_size=10)\n",
        "    move = Twist();\n",
        "    rate = rospy.Rate(1)\n",
        "\n",
        "    while not rospy.is_shutdown():\n",
        "       move.linear.x = 10\n",
        "       move.angular.z = 0\n",
        "       pub.publish(move)\n",
        "       rate.sleep()\n",
        "\n",
        "if __name__ == '__main__':\n",
        "    try:\n",
        "        talker()\n",
        "    except rospy.ROSInterruptException:\n",
        "        pass\n"
      ],
      "execution_count": 0,
      "outputs": []
    },
    {
      "cell_type": "code",
      "metadata": {
        "id": "nlySFlYLB80o",
        "colab_type": "code",
        "colab": {}
      },
      "source": [
        "#!/usr/bin/python\n",
        "import rospy\n",
        "from nav_msgs.msg import Odometry\n",
        "from tf.transformations import euler_from_quaternion, quaternion_from_euler\n",
        "from geometry_msgs.msg import Twist\n",
        "import math\n",
        "\n",
        "roll = pitch = yaw = 0.0\n",
        "target = 90\n",
        "kp=0.5\n",
        "\n",
        "def get_rotation (msg):\n",
        "    global roll, pitch, yaw\n",
        "    orientation_q = msg.pose.pose.orientation\n",
        "    orientation_list = [orientation_q.x, orientation_q.y,         orientation_q.z, orientation_q.w]\n",
        "    (roll, pitch, yaw) = euler_from_quaternion (orientation_list)\n",
        "    print yaw\n",
        "\n",
        "rospy.init_node('rotate_robot')\n",
        "\n",
        "sub = rospy.Subscriber ('/odom', Odometry, get_rotation)\n",
        "pub = rospy.Publisher('cmd_vel', Twist, queue_size=1)\n",
        "r = rospy.Rate(10)\n",
        "command =Twist()\n",
        "\n",
        "while not rospy.is_shutdown():\n",
        "    target_rad = target*math.pi/180\n",
        "    command.angular.z = kp * (target_rad-yaw)\n",
        "    pub.publish(command)\n",
        "    print(\"taeget={} current:{}\", target,yaw)\n",
        "    r.sleep()"
      ],
      "execution_count": 0,
      "outputs": []
    }
  ]
}